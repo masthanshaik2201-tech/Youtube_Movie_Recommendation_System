{
  "nbformat": 4,
  "nbformat_minor": 0,
  "metadata": {
    "colab": {
      "provenance": [],
      "gpuType": "T4"
    },
    "kernelspec": {
      "name": "python3",
      "display_name": "Python 3"
    },
    "language_info": {
      "name": "python"
    },
    "accelerator": "GPU",
    "widgets": {
      "application/vnd.jupyter.widget-state+json": {
        "cb5a1e40454b452b97ad9b8e3040d4d4": {
          "model_module": "@jupyter-widgets/controls",
          "model_name": "HBoxModel",
          "model_module_version": "1.5.0",
          "state": {
            "_dom_classes": [],
            "_model_module": "@jupyter-widgets/controls",
            "_model_module_version": "1.5.0",
            "_model_name": "HBoxModel",
            "_view_count": null,
            "_view_module": "@jupyter-widgets/controls",
            "_view_module_version": "1.5.0",
            "_view_name": "HBoxView",
            "box_style": "",
            "children": [
              "IPY_MODEL_b6a755d9bed846b5a7991e3cd7140491",
              "IPY_MODEL_b2cef70f174a472a8a1e21ebeb4a0adc",
              "IPY_MODEL_486c0aa9bc414ba79eb4e5749102bc47"
            ],
            "layout": "IPY_MODEL_eb5ca030061e4124819f74b8b302d495"
          }
        },
        "b6a755d9bed846b5a7991e3cd7140491": {
          "model_module": "@jupyter-widgets/controls",
          "model_name": "HTMLModel",
          "model_module_version": "1.5.0",
          "state": {
            "_dom_classes": [],
            "_model_module": "@jupyter-widgets/controls",
            "_model_module_version": "1.5.0",
            "_model_name": "HTMLModel",
            "_view_count": null,
            "_view_module": "@jupyter-widgets/controls",
            "_view_module_version": "1.5.0",
            "_view_name": "HTMLView",
            "description": "",
            "description_tooltip": null,
            "layout": "IPY_MODEL_2184da2a80e64f4ab0485ddc8021ee1d",
            "placeholder": "​",
            "style": "IPY_MODEL_0f732e874f364b2c80795394facfd83c",
            "value": " 24%"
          }
        },
        "b2cef70f174a472a8a1e21ebeb4a0adc": {
          "model_module": "@jupyter-widgets/controls",
          "model_name": "FloatProgressModel",
          "model_module_version": "1.5.0",
          "state": {
            "_dom_classes": [],
            "_model_module": "@jupyter-widgets/controls",
            "_model_module_version": "1.5.0",
            "_model_name": "FloatProgressModel",
            "_view_count": null,
            "_view_module": "@jupyter-widgets/controls",
            "_view_module_version": "1.5.0",
            "_view_name": "ProgressView",
            "bar_style": "danger",
            "description": "",
            "description_tooltip": null,
            "layout": "IPY_MODEL_0472a9c54c6648e1820eb1abb01c6aae",
            "max": 100,
            "min": 0,
            "orientation": "horizontal",
            "style": "IPY_MODEL_49ef46d397da4786b5b4bfece5c27e60",
            "value": 24
          }
        },
        "486c0aa9bc414ba79eb4e5749102bc47": {
          "model_module": "@jupyter-widgets/controls",
          "model_name": "HTMLModel",
          "model_module_version": "1.5.0",
          "state": {
            "_dom_classes": [],
            "_model_module": "@jupyter-widgets/controls",
            "_model_module_version": "1.5.0",
            "_model_name": "HTMLModel",
            "_view_count": null,
            "_view_module": "@jupyter-widgets/controls",
            "_view_module_version": "1.5.0",
            "_view_name": "HTMLView",
            "description": "",
            "description_tooltip": null,
            "layout": "IPY_MODEL_d7a953ef61df485da6360e48593a6704",
            "placeholder": "​",
            "style": "IPY_MODEL_cda5e70496b442ceadd0c357411b6ec6",
            "value": " 24/100 [00:34&lt;01:36,  1.27s/it]"
          }
        },
        "eb5ca030061e4124819f74b8b302d495": {
          "model_module": "@jupyter-widgets/base",
          "model_name": "LayoutModel",
          "model_module_version": "1.2.0",
          "state": {
            "_model_module": "@jupyter-widgets/base",
            "_model_module_version": "1.2.0",
            "_model_name": "LayoutModel",
            "_view_count": null,
            "_view_module": "@jupyter-widgets/base",
            "_view_module_version": "1.2.0",
            "_view_name": "LayoutView",
            "align_content": null,
            "align_items": null,
            "align_self": null,
            "border": null,
            "bottom": null,
            "display": null,
            "flex": null,
            "flex_flow": null,
            "grid_area": null,
            "grid_auto_columns": null,
            "grid_auto_flow": null,
            "grid_auto_rows": null,
            "grid_column": null,
            "grid_gap": null,
            "grid_row": null,
            "grid_template_areas": null,
            "grid_template_columns": null,
            "grid_template_rows": null,
            "height": null,
            "justify_content": null,
            "justify_items": null,
            "left": null,
            "margin": null,
            "max_height": null,
            "max_width": null,
            "min_height": null,
            "min_width": null,
            "object_fit": null,
            "object_position": null,
            "order": null,
            "overflow": null,
            "overflow_x": null,
            "overflow_y": null,
            "padding": null,
            "right": null,
            "top": null,
            "visibility": null,
            "width": null
          }
        },
        "2184da2a80e64f4ab0485ddc8021ee1d": {
          "model_module": "@jupyter-widgets/base",
          "model_name": "LayoutModel",
          "model_module_version": "1.2.0",
          "state": {
            "_model_module": "@jupyter-widgets/base",
            "_model_module_version": "1.2.0",
            "_model_name": "LayoutModel",
            "_view_count": null,
            "_view_module": "@jupyter-widgets/base",
            "_view_module_version": "1.2.0",
            "_view_name": "LayoutView",
            "align_content": null,
            "align_items": null,
            "align_self": null,
            "border": null,
            "bottom": null,
            "display": null,
            "flex": null,
            "flex_flow": null,
            "grid_area": null,
            "grid_auto_columns": null,
            "grid_auto_flow": null,
            "grid_auto_rows": null,
            "grid_column": null,
            "grid_gap": null,
            "grid_row": null,
            "grid_template_areas": null,
            "grid_template_columns": null,
            "grid_template_rows": null,
            "height": null,
            "justify_content": null,
            "justify_items": null,
            "left": null,
            "margin": null,
            "max_height": null,
            "max_width": null,
            "min_height": null,
            "min_width": null,
            "object_fit": null,
            "object_position": null,
            "order": null,
            "overflow": null,
            "overflow_x": null,
            "overflow_y": null,
            "padding": null,
            "right": null,
            "top": null,
            "visibility": null,
            "width": null
          }
        },
        "0f732e874f364b2c80795394facfd83c": {
          "model_module": "@jupyter-widgets/controls",
          "model_name": "DescriptionStyleModel",
          "model_module_version": "1.5.0",
          "state": {
            "_model_module": "@jupyter-widgets/controls",
            "_model_module_version": "1.5.0",
            "_model_name": "DescriptionStyleModel",
            "_view_count": null,
            "_view_module": "@jupyter-widgets/base",
            "_view_module_version": "1.2.0",
            "_view_name": "StyleView",
            "description_width": ""
          }
        },
        "0472a9c54c6648e1820eb1abb01c6aae": {
          "model_module": "@jupyter-widgets/base",
          "model_name": "LayoutModel",
          "model_module_version": "1.2.0",
          "state": {
            "_model_module": "@jupyter-widgets/base",
            "_model_module_version": "1.2.0",
            "_model_name": "LayoutModel",
            "_view_count": null,
            "_view_module": "@jupyter-widgets/base",
            "_view_module_version": "1.2.0",
            "_view_name": "LayoutView",
            "align_content": null,
            "align_items": null,
            "align_self": null,
            "border": null,
            "bottom": null,
            "display": null,
            "flex": null,
            "flex_flow": null,
            "grid_area": null,
            "grid_auto_columns": null,
            "grid_auto_flow": null,
            "grid_auto_rows": null,
            "grid_column": null,
            "grid_gap": null,
            "grid_row": null,
            "grid_template_areas": null,
            "grid_template_columns": null,
            "grid_template_rows": null,
            "height": null,
            "justify_content": null,
            "justify_items": null,
            "left": null,
            "margin": null,
            "max_height": null,
            "max_width": null,
            "min_height": null,
            "min_width": null,
            "object_fit": null,
            "object_position": null,
            "order": null,
            "overflow": null,
            "overflow_x": null,
            "overflow_y": null,
            "padding": null,
            "right": null,
            "top": null,
            "visibility": null,
            "width": null
          }
        },
        "49ef46d397da4786b5b4bfece5c27e60": {
          "model_module": "@jupyter-widgets/controls",
          "model_name": "ProgressStyleModel",
          "model_module_version": "1.5.0",
          "state": {
            "_model_module": "@jupyter-widgets/controls",
            "_model_module_version": "1.5.0",
            "_model_name": "ProgressStyleModel",
            "_view_count": null,
            "_view_module": "@jupyter-widgets/base",
            "_view_module_version": "1.2.0",
            "_view_name": "StyleView",
            "bar_color": null,
            "description_width": ""
          }
        },
        "d7a953ef61df485da6360e48593a6704": {
          "model_module": "@jupyter-widgets/base",
          "model_name": "LayoutModel",
          "model_module_version": "1.2.0",
          "state": {
            "_model_module": "@jupyter-widgets/base",
            "_model_module_version": "1.2.0",
            "_model_name": "LayoutModel",
            "_view_count": null,
            "_view_module": "@jupyter-widgets/base",
            "_view_module_version": "1.2.0",
            "_view_name": "LayoutView",
            "align_content": null,
            "align_items": null,
            "align_self": null,
            "border": null,
            "bottom": null,
            "display": null,
            "flex": null,
            "flex_flow": null,
            "grid_area": null,
            "grid_auto_columns": null,
            "grid_auto_flow": null,
            "grid_auto_rows": null,
            "grid_column": null,
            "grid_gap": null,
            "grid_row": null,
            "grid_template_areas": null,
            "grid_template_columns": null,
            "grid_template_rows": null,
            "height": null,
            "justify_content": null,
            "justify_items": null,
            "left": null,
            "margin": null,
            "max_height": null,
            "max_width": null,
            "min_height": null,
            "min_width": null,
            "object_fit": null,
            "object_position": null,
            "order": null,
            "overflow": null,
            "overflow_x": null,
            "overflow_y": null,
            "padding": null,
            "right": null,
            "top": null,
            "visibility": null,
            "width": null
          }
        },
        "cda5e70496b442ceadd0c357411b6ec6": {
          "model_module": "@jupyter-widgets/controls",
          "model_name": "DescriptionStyleModel",
          "model_module_version": "1.5.0",
          "state": {
            "_model_module": "@jupyter-widgets/controls",
            "_model_module_version": "1.5.0",
            "_model_name": "DescriptionStyleModel",
            "_view_count": null,
            "_view_module": "@jupyter-widgets/base",
            "_view_module_version": "1.2.0",
            "_view_name": "StyleView",
            "description_width": ""
          }
        }
      }
    }
  },
  "cells": [
    {
      "cell_type": "markdown",
      "source": [
        "# Movie Recommendation System using Neural Collaborative Filtering\n",
        "This notebook implements a recommendation system on the MovieLens 100k dataset using PyTorch.\n",
        "We will use user and item embeddings, feed them through a neural network, and predict ratings.\n",
        "\n"
      ],
      "metadata": {
        "id": "YudCT2Ke7vHB"
      }
    },
    {
      "cell_type": "code",
      "source": [
        "from google.colab import drive\n",
        "drive.mount('/content/drive')\n"
      ],
      "metadata": {
        "colab": {
          "base_uri": "https://localhost:8080/"
        },
        "id": "yfrmwI8j8arX",
        "outputId": "7c0e08b6-24ab-4248-a83d-b1e4d80c9232"
      },
      "execution_count": 18,
      "outputs": [
        {
          "output_type": "stream",
          "name": "stdout",
          "text": [
            "Drive already mounted at /content/drive; to attempt to forcibly remount, call drive.mount(\"/content/drive\", force_remount=True).\n"
          ]
        }
      ]
    },
    {
      "cell_type": "code",
      "source": [
        "!ls \"/content/drive/My Drive/recommendation system\"\n"
      ],
      "metadata": {
        "colab": {
          "base_uri": "https://localhost:8080/"
        },
        "id": "RYXSHvDNAWj6",
        "outputId": "b323c0a5-f5cc-4460-8d7b-5593755ebe05"
      },
      "execution_count": 20,
      "outputs": [
        {
          "output_type": "stream",
          "name": "stdout",
          "text": [
            "ml-100k\n"
          ]
        }
      ]
    },
    {
      "cell_type": "code",
      "source": [
        "import os\n",
        "os.chdir(\"/content/drive/My Drive/recommendation system\")\n"
      ],
      "metadata": {
        "id": "e6qjMr11AvzZ"
      },
      "execution_count": 21,
      "outputs": []
    },
    {
      "cell_type": "code",
      "source": [
        "data_path = 'ml-100k/'\n",
        "print(os.listdir(data_path))\n"
      ],
      "metadata": {
        "colab": {
          "base_uri": "https://localhost:8080/"
        },
        "id": "eKHmohLbA36r",
        "outputId": "037ef9c7-247e-4eea-e790-43f99257fed4"
      },
      "execution_count": 22,
      "outputs": [
        {
          "output_type": "stream",
          "name": "stdout",
          "text": [
            "['allbut.pl', 'u2.test', 'mku.sh', 'u1.test', 'u.data', 'u.occupation', 'u.item', 'README', 'u.user', 'u3.test', 'u.info', 'u.genre', 'ua.test', 'u4.test', 'ub.test', 'u5.test', 'u4.base', 'u5.base', 'u3.base', 'u2.base', 'u1.base', 'ub.base', 'ua.base']\n"
          ]
        }
      ]
    },
    {
      "cell_type": "code",
      "source": [
        "## Step 1: Import required libraries\n",
        "import os\n",
        "import pandas as pd\n",
        "import numpy as np\n",
        "import matplotlib.pyplot as plt\n",
        "import random\n",
        "from tqdm.notebook import tqdm  #\n",
        "from copy import deepcopy\n",
        "\n",
        "import torch\n",
        "import torch.nn as nn\n",
        "import torch.nn.functional as F\n",
        "from torch.utils.data import DataLoader, Dataset\n",
        "\n",
        "# Use GPU if available\n",
        "device = torch.device(\"cuda:0\" if torch.cuda.is_available() else \"cpu\")\n",
        "\n"
      ],
      "metadata": {
        "id": "jUshTnCKA8AI"
      },
      "execution_count": 45,
      "outputs": []
    },
    {
      "cell_type": "code",
      "source": [
        "# Step 2: Set dataset path and basic information\n",
        "data_path = 'ml-100k/'  # Folder containing u1.base, u1.test, etc.\n",
        "\n",
        "id_val = 1\n",
        "num_users = 943\n",
        "num_items = 1682\n",
        "\n",
        "# Load training and validation data\n",
        "train_dataframe = pd.read_csv(f'{data_path}u{id_val}.base', sep='\\t', header=None)\n",
        "train_dataframe.columns = ['user_id','item_id','rating','ts']\n",
        "train_dataframe['user_id'] -= 1\n",
        "train_dataframe['item_id'] -= 1\n",
        "\n",
        "valid_df = pd.read_csv(f'{data_path}u{id_val}.test', sep='\\t', header=None)\n",
        "valid_df.columns = ['user_id','item_id','rating','ts']\n",
        "valid_df['user_id'] -= 1\n",
        "valid_df['item_id'] -= 1\n",
        "\n",
        "print(\"Train shape:\", train_dataframe.shape)\n",
        "print(\"Validation shape:\", valid_df.shape)\n"
      ],
      "metadata": {
        "colab": {
          "base_uri": "https://localhost:8080/"
        },
        "id": "PO4hNKvIB1Cw",
        "outputId": "4ec7881b-4a91-4b1a-f1b0-ce84ea97bbf8"
      },
      "execution_count": 46,
      "outputs": [
        {
          "output_type": "stream",
          "name": "stdout",
          "text": [
            "Train shape: (80000, 4)\n",
            "Validation shape: (20000, 4)\n"
          ]
        }
      ]
    },
    {
      "cell_type": "code",
      "source": [
        "# Step 3: Check unique users and items\n",
        "train_usrs = train_dataframe.user_id.unique()\n",
        "vald_usrs = valid_df.user_id.unique()\n",
        "train_itms = train_dataframe.item_id.unique()\n",
        "vald_itms = valid_df.item_id.unique()\n",
        "\n",
        "print(\"Unique users in train:\", len(train_usrs))\n",
        "print(\"Unique users in valid:\", len(vald_usrs))\n",
        "print(\"Unique items in train:\", len(train_itms))\n",
        "print(\"Unique items in valid:\", len(vald_itms))\n"
      ],
      "metadata": {
        "colab": {
          "base_uri": "https://localhost:8080/"
        },
        "id": "JwvbQFlLB6-E",
        "outputId": "001262f5-2cf4-4546-e0c1-4f695ee9dc69"
      },
      "execution_count": 47,
      "outputs": [
        {
          "output_type": "stream",
          "name": "stdout",
          "text": [
            "Unique users in train: 943\n",
            "Unique users in valid: 459\n",
            "Unique items in train: 1650\n",
            "Unique items in valid: 1410\n"
          ]
        }
      ]
    },
    {
      "cell_type": "code",
      "source": [
        "# Step 4: Define PyTorch Dataset class (CPU tensors)\n",
        "# Step 5: Define PyTorch Dataset class\n",
        "class CollabDataset(Dataset):\n",
        "    def __init__(self, df, user_col=0, item_col=1, rating_col=2):\n",
        "        self.df = df\n",
        "        # CPU tensors first\n",
        "        self.user_tensor = torch.tensor(self.df.iloc[:, user_col], dtype=torch.long)\n",
        "        self.item_tensor = torch.tensor(self.df.iloc[:, item_col], dtype=torch.long)\n",
        "        self.target_tensor = torch.tensor(self.df.iloc[:, rating_col], dtype=torch.float32)\n",
        "\n",
        "    def __getitem__(self, index):\n",
        "        return self.user_tensor[index], self.item_tensor[index], self.target_tensor[index]\n",
        "\n",
        "    def __len__(self):\n",
        "        return self.user_tensor.shape[0]\n",
        "\n",
        "# Batch size\n",
        "batch_size = 2000\n",
        "\n",
        "# Create datasets and dataloaders\n",
        "train_dataset = CollabDataset(train_dataframe)\n",
        "train_dataloader = DataLoader(train_dataset, batch_size=batch_size, shuffle=True, num_workers=0)\n",
        "\n",
        "valid_dataset = CollabDataset(valid_df)\n",
        "valid_dataloader = DataLoader(valid_dataset, batch_size=batch_size, shuffle=True, num_workers=0)\n"
      ],
      "metadata": {
        "id": "2PCwqbdzC_vc"
      },
      "execution_count": 48,
      "outputs": []
    },
    {
      "cell_type": "markdown",
      "source": [
        "Training the recommendation model"
      ],
      "metadata": {
        "id": "_JLVNwYiDMD6"
      }
    },
    {
      "cell_type": "code",
      "source": [
        "# Step 5: Define the neural network\n",
        "class ConcatNet(nn.Module):\n",
        "    def __init__(self, config):\n",
        "        super(ConcatNet, self).__init__()\n",
        "        self.config = config\n",
        "        self.num_users = config['num_users']\n",
        "        self.num_items = config['num_items']\n",
        "        self.emb_size = config['emb_size']\n",
        "        self.emb_dropout = config['emb_dropout']\n",
        "        self.fc_layer_sizes = config['fc_layer_sizes']\n",
        "        self.dropout = config['dropout']\n",
        "        self.out_range = config['out_range']\n",
        "\n",
        "        # Embeddings\n",
        "        self.emb_user = nn.Sequential(\n",
        "            nn.Embedding(num_embeddings=self.num_users, embedding_dim=self.emb_size),\n",
        "            nn.Dropout(p=self.emb_dropout)\n",
        "        )\n",
        "        self.emb_item = nn.Sequential(\n",
        "            nn.Embedding(num_embeddings=self.num_items, embedding_dim=self.emb_size),\n",
        "            nn.Dropout(p=self.emb_dropout)\n",
        "        )\n",
        "\n",
        "        # Fully connected layers\n",
        "        fc_layers_list = []\n",
        "        for ni, nf, p in zip(self.fc_layer_sizes[:-1], self.fc_layer_sizes[1:], self.dropout):\n",
        "            fc_layers_list.append(nn.Linear(ni, nf))\n",
        "            fc_layers_list.append(nn.ReLU(inplace=True))\n",
        "            fc_layers_list.append(nn.BatchNorm1d(nf))\n",
        "            fc_layers_list.append(nn.Dropout(p=p))\n",
        "        self.fc_layers = nn.Sequential(*fc_layers_list)\n",
        "\n",
        "        # Output layer\n",
        "        self.head = nn.Linear(self.fc_layer_sizes[-1], 1)\n",
        "\n",
        "    def forward(self, user_idx, item_idx):\n",
        "        user_emb = self.emb_user(user_idx.to(device))\n",
        "        item_emb = self.emb_item(item_idx.to(device))\n",
        "        x = torch.cat([user_emb, item_emb], dim=1)\n",
        "        x = self.fc_layers(x)\n",
        "        x = torch.sigmoid(self.head(x))\n",
        "        x = x * (self.out_range[1] - self.out_range[0]) + self.out_range[0]\n",
        "        return x\n"
      ],
      "metadata": {
        "id": "isAEWjTODEXr"
      },
      "execution_count": 49,
      "outputs": []
    },
    {
      "cell_type": "code",
      "source": [
        "# Step 6: Config and model initialization\n",
        "config = {\n",
        "    'num_users': 943,\n",
        "    'num_items': 1682,\n",
        "    'emb_size': 50,\n",
        "    'emb_dropout': 0.05,\n",
        "    'fc_layer_sizes': [100, 512, 256],\n",
        "    'dropout': [0.7, 0.35],\n",
        "    'out_range': [0.8, 5.2]\n",
        "}\n",
        "\n",
        "model = ConcatNet(config).to(device)\n"
      ],
      "metadata": {
        "id": "MAjLXftIDdzb"
      },
      "execution_count": 51,
      "outputs": []
    },
    {
      "cell_type": "code",
      "source": [
        "# Training setup\n",
        "\n",
        "# Step 7: Training setup\n",
        "learning_rate = 1e-2\n",
        "weight_decay = 5e-1\n",
        "num_epoch = 100\n",
        "reduce_learning_rate = 1\n",
        "early_stopping = 5\n",
        "\n",
        "criterion = nn.MSELoss(reduction='sum')\n",
        "optim = torch.optim.Adam(model.parameters(), lr=learning_rate, betas=(0.9, 0.999), weight_decay=weight_decay)\n",
        "scheduler = torch.optim.lr_scheduler.ReduceLROnPlateau(optim, mode='min', factor=0.5, patience=reduce_learning_rate, min_lr=learning_rate/10)\n",
        "\n",
        "learning_rates = []\n",
        "train_losses = []\n",
        "valid_losses = []\n",
        "best_loss = np.inf\n",
        "best_weights = None\n",
        "no_improvements = 0\n"
      ],
      "metadata": {
        "id": "IuN6IR66Dpqm"
      },
      "execution_count": 53,
      "outputs": []
    },
    {
      "cell_type": "code",
      "source": [
        "# Step 8: Training loop\n",
        "for e in tqdm(range(num_epoch)):\n",
        "    model.train()\n",
        "    train_loss = 0\n",
        "    for u, i, r in train_dataloader:\n",
        "        u, i, r = u.to(device), i.to(device), r.to(device)\n",
        "        r = r[:, None]\n",
        "\n",
        "        r_pred = model(u, i)\n",
        "        loss = criterion(r_pred, r)\n",
        "\n",
        "        optim.zero_grad()\n",
        "        loss.backward()\n",
        "        optim.step()\n",
        "        train_loss += loss.detach().item()\n",
        "\n",
        "    train_loss /= len(train_dataset)\n",
        "    train_losses.append(train_loss)\n",
        "\n",
        "    # Validation\n",
        "    model.eval()\n",
        "    valid_loss = 0\n",
        "    with torch.no_grad():\n",
        "        for u, i, r in valid_dataloader:\n",
        "            u, i, r = u.to(device), i.to(device), r.to(device)\n",
        "            r = r[:, None]\n",
        "            r_pred = model(u, i)\n",
        "            loss = criterion(r_pred, r)\n",
        "            valid_loss += loss.detach().item()\n",
        "    valid_loss /= len(valid_dataset)\n",
        "    valid_losses.append(valid_loss)\n",
        "\n",
        "    current_lr = optim.param_groups[0]['lr']\n",
        "    learning_rates.append(current_lr)\n",
        "\n",
        "    print(f'Epoch {e}: Train loss={train_loss:.4f}, Valid loss={valid_loss:.4f}, LR={current_lr}')\n",
        "\n",
        "    if valid_loss < best_loss:\n",
        "        best_loss = valid_loss\n",
        "        best_weights = deepcopy(model.state_dict())\n",
        "        no_improvements = 0\n",
        "    else:\n",
        "        no_improvements += 1\n",
        "\n",
        "    if no_improvements >= early_stopping:\n",
        "        print(f'Early stopping at epoch {e}')\n",
        "        break\n",
        "\n",
        "    scheduler.step(valid_loss)\n"
      ],
      "metadata": {
        "colab": {
          "base_uri": "https://localhost:8080/",
          "height": 500,
          "referenced_widgets": [
            "cb5a1e40454b452b97ad9b8e3040d4d4",
            "b6a755d9bed846b5a7991e3cd7140491",
            "b2cef70f174a472a8a1e21ebeb4a0adc",
            "486c0aa9bc414ba79eb4e5749102bc47",
            "eb5ca030061e4124819f74b8b302d495",
            "2184da2a80e64f4ab0485ddc8021ee1d",
            "0f732e874f364b2c80795394facfd83c",
            "0472a9c54c6648e1820eb1abb01c6aae",
            "49ef46d397da4786b5b4bfece5c27e60",
            "d7a953ef61df485da6360e48593a6704",
            "cda5e70496b442ceadd0c357411b6ec6"
          ]
        },
        "id": "ON0Oqn0xEkZc",
        "outputId": "de2314d7-7f7a-43eb-d773-8c3fb327c56a"
      },
      "execution_count": 54,
      "outputs": [
        {
          "output_type": "display_data",
          "data": {
            "text/plain": [
              "  0%|          | 0/100 [00:00<?, ?it/s]"
            ],
            "application/vnd.jupyter.widget-view+json": {
              "version_major": 2,
              "version_minor": 0,
              "model_id": "cb5a1e40454b452b97ad9b8e3040d4d4"
            }
          },
          "metadata": {}
        },
        {
          "output_type": "stream",
          "name": "stdout",
          "text": [
            "Epoch 0: Train loss=1.3677, Valid loss=1.1571, LR=0.01\n",
            "Epoch 1: Train loss=1.0793, Valid loss=1.0494, LR=0.01\n",
            "Epoch 2: Train loss=0.9763, Valid loss=0.9737, LR=0.01\n",
            "Epoch 3: Train loss=0.9224, Valid loss=0.9410, LR=0.01\n",
            "Epoch 4: Train loss=0.9020, Valid loss=0.9326, LR=0.01\n",
            "Epoch 5: Train loss=0.8856, Valid loss=0.9198, LR=0.01\n",
            "Epoch 6: Train loss=0.8741, Valid loss=0.9152, LR=0.01\n",
            "Epoch 7: Train loss=0.8662, Valid loss=0.9081, LR=0.01\n",
            "Epoch 8: Train loss=0.8579, Valid loss=0.9062, LR=0.01\n",
            "Epoch 9: Train loss=0.8534, Valid loss=0.9069, LR=0.01\n",
            "Epoch 10: Train loss=0.8428, Valid loss=0.8887, LR=0.01\n",
            "Epoch 11: Train loss=0.8310, Valid loss=0.8826, LR=0.01\n",
            "Epoch 12: Train loss=0.8253, Valid loss=0.8798, LR=0.01\n",
            "Epoch 13: Train loss=0.8160, Valid loss=0.8783, LR=0.01\n",
            "Epoch 14: Train loss=0.8141, Valid loss=0.8779, LR=0.01\n",
            "Epoch 15: Train loss=0.8137, Valid loss=0.8807, LR=0.01\n",
            "Epoch 16: Train loss=0.8053, Valid loss=0.8718, LR=0.01\n",
            "Epoch 17: Train loss=0.8028, Valid loss=0.8738, LR=0.01\n",
            "Epoch 18: Train loss=0.8004, Valid loss=0.8785, LR=0.01\n",
            "Epoch 19: Train loss=0.7701, Valid loss=0.8615, LR=0.005\n",
            "Epoch 20: Train loss=0.7530, Valid loss=0.8651, LR=0.005\n",
            "Epoch 21: Train loss=0.7502, Valid loss=0.8655, LR=0.005\n",
            "Epoch 22: Train loss=0.7219, Valid loss=0.8691, LR=0.0025\n",
            "Epoch 23: Train loss=0.7097, Valid loss=0.8717, LR=0.0025\n",
            "Epoch 24: Train loss=0.6871, Valid loss=0.8801, LR=0.00125\n",
            "Early stopping at epoch 24\n"
          ]
        }
      ]
    },
    {
      "cell_type": "code",
      "source": [
        "# Step 10: Plot losses\n",
        "plt.plot(train_losses, label='Train Loss')\n",
        "plt.plot(valid_losses, label='Validation Loss')\n",
        "plt.xlabel('Epoch')\n",
        "plt.ylabel('Loss')\n",
        "plt.legend()\n",
        "plt.show()\n"
      ],
      "metadata": {
        "colab": {
          "base_uri": "https://localhost:8080/",
          "height": 454
        },
        "id": "kBjkaj6LFTeZ",
        "outputId": "f2b72235-bb44-472b-c023-5fec33a463ae"
      },
      "execution_count": 55,
      "outputs": [
        {
          "output_type": "display_data",
          "data": {
            "text/plain": [
              "<Figure size 640x480 with 1 Axes>"
            ],
            "image/png": "[encoded data removed]"
          },
          "metadata": {}
        }
      ]
    },
    {
      "cell_type": "code",
      "source": [
        "torch.save(best_weights, 'concatnet_best_weights.pth')\n",
        "print(\"Weights saved!\")\n"
      ],
      "metadata": {
        "colab": {
          "base_uri": "https://localhost:8080/"
        },
        "id": "OA6PFsnYL2dV",
        "outputId": "217d2a1c-3d23-4f75-8edf-6a0a73c4fa31"
      },
      "execution_count": 64,
      "outputs": [
        {
          "output_type": "stream",
          "name": "stdout",
          "text": [
            "Weights saved!\n"
          ]
        }
      ]
    },
    {
      "cell_type": "code",
      "source": [
        "#  Load saved model weights\n",
        "model = ConcatNet(config).to(device)\n",
        "model.load_state_dict(torch.load('concatnet_best_weights.pth'))\n",
        "model.eval()\n",
        "print(\"Model loaded! Ready for predictions.\\n\")\n",
        "\n"
      ],
      "metadata": {
        "colab": {
          "base_uri": "https://localhost:8080/"
        },
        "id": "TjF9orqlMEH5",
        "outputId": "c7e000c5-df47-4144-e016-a15017d1583a"
      },
      "execution_count": 66,
      "outputs": [
        {
          "output_type": "stream",
          "name": "stdout",
          "text": [
            "Model loaded! Ready for predictions.\n",
            "\n"
          ]
        }
      ]
    },
    {
      "cell_type": "code",
      "source": [
        "# Load MovieLens movie metadata\n",
        "movies_df = pd.read_csv(f'{data_path}u.item', sep='|', encoding='latin-1', header=None, usecols=[0,1], names=['movie_id','title'])\n",
        "movies_df['movie_id'] -= 1  # 0-based indexing\n",
        "\n",
        "def get_movie_titles(movie_ids):\n",
        "    return movies_df[movies_df['movie_id'].isin(movie_ids)]['title'].tolist()\n"
      ],
      "metadata": {
        "id": "8e2LLfdzJ_jX"
      },
      "execution_count": 57,
      "outputs": []
    },
    {
      "cell_type": "code",
      "source": [
        "#  Recommendation function (all movies)\n",
        "def recommend_movies(user_id, model, num_items=1682, top_n=5):\n",
        "    model.eval()\n",
        "    user_tensor = torch.tensor([user_id]*num_items).to(device)\n",
        "    item_tensor = torch.arange(num_items).to(device)\n",
        "\n",
        "    with torch.no_grad():\n",
        "        scores = model(user_tensor, item_tensor).squeeze()\n",
        "\n",
        "    top_scores, top_movie_ids = torch.topk(scores, top_n)\n",
        "    return top_movie_ids.cpu().tolist(), top_scores.cpu().tolist()"
      ],
      "metadata": {
        "id": "etm6sD7nNCE5"
      },
      "execution_count": 67,
      "outputs": []
    },
    {
      "cell_type": "code",
      "source": [
        "while True:\n",
        "    user_input = input(\"Enter MovieLens user ID (1-943) or 'q' to quit: \")\n",
        "    if user_input.lower() == 'q':\n",
        "        print(\"Exiting...\")\n",
        "        break\n",
        "    try:\n",
        "        user_id = int(user_input) - 1\n",
        "        if user_id < 0 or user_id >= num_users:\n",
        "            raise ValueError\n",
        "    except:\n",
        "        print(\"Invalid input. Please enter a number between 1 and 943.\")\n",
        "        continue\n",
        "\n",
        "    top_movies, scores = recommend_movies(user_id, model, num_items=num_items, top_n=5)\n",
        "    titles = get_movie_titles(top_movies)\n",
        "\n",
        "    print(f\"\\nTop 5 recommendations for User {user_id+1}:\")\n",
        "    for t, s in zip(titles, scores):\n",
        "        print(f\"{t} - Predicted rating: {s:.2f}\")\n",
        "    print(\"\\n\" + \"-\"*40 + \"\\n\")\n"
      ],
      "metadata": {
        "colab": {
          "base_uri": "https://localhost:8080/"
        },
        "id": "Hn8X1QtAKCHH",
        "outputId": "c3a7e64f-e238-4ad5-e8ed-128fdb71e6c0"
      },
      "execution_count": 68,
      "outputs": [
        {
          "output_type": "stream",
          "name": "stdout",
          "text": [
            "Enter MovieLens user ID (1-943) or 'q' to quit: 20\n",
            "\n",
            "Top 5 recommendations for User 20:\n",
            "Star Wars (1977) - Predicted rating: 3.91\n",
            "Terminator 2: Judgment Day (1991) - Predicted rating: 3.88\n",
            "Wrong Trousers, The (1993) - Predicted rating: 3.87\n",
            "Raiders of the Lost Ark (1981) - Predicted rating: 3.86\n",
            "Titanic (1997) - Predicted rating: 3.85\n",
            "\n",
            "----------------------------------------\n",
            "\n",
            "Enter MovieLens user ID (1-943) or 'q' to quit: 4\n",
            "\n",
            "Top 5 recommendations for User 4:\n",
            "One Flew Over the Cuckoo's Nest (1975) - Predicted rating: 4.85\n",
            "Close Shave, A (1995) - Predicted rating: 4.82\n",
            "Casablanca (1942) - Predicted rating: 4.81\n",
            "Third Man, The (1949) - Predicted rating: 4.81\n",
            "Chinatown (1974) - Predicted rating: 4.80\n",
            "\n",
            "----------------------------------------\n",
            "\n",
            "Enter MovieLens user ID (1-943) or 'q' to quit: 4\n",
            "\n",
            "Top 5 recommendations for User 4:\n",
            "One Flew Over the Cuckoo's Nest (1975) - Predicted rating: 4.85\n",
            "Close Shave, A (1995) - Predicted rating: 4.82\n",
            "Casablanca (1942) - Predicted rating: 4.81\n",
            "Third Man, The (1949) - Predicted rating: 4.81\n",
            "Chinatown (1974) - Predicted rating: 4.80\n",
            "\n",
            "----------------------------------------\n",
            "\n",
            "Enter MovieLens user ID (1-943) or 'q' to quit: 900\n",
            "\n",
            "Top 5 recommendations for User 900:\n",
            "Usual Suspects, The (1995) - Predicted rating: 3.98\n",
            "Shawshank Redemption, The (1994) - Predicted rating: 3.94\n",
            "Wrong Trousers, The (1993) - Predicted rating: 3.88\n",
            "Close Shave, A (1995) - Predicted rating: 3.86\n",
            "Rear Window (1954) - Predicted rating: 3.86\n",
            "\n",
            "----------------------------------------\n",
            "\n",
            "Enter MovieLens user ID (1-943) or 'q' to quit: q\n",
            "Exiting...\n"
          ]
        }
      ]
    },
    {
      "cell_type": "code",
      "source": [],
      "metadata": {
        "id": "s9KfyQubKEZz"
      },
      "execution_count": null,
      "outputs": []
    }
  ]
}